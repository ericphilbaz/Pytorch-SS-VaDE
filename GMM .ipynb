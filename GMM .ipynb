{
 "cells": [
  {
   "cell_type": "code",
   "execution_count": 4,
   "metadata": {},
   "outputs": [],
   "source": [
    "import argparse\n",
    "import matplotlib.pyplot as plt\n",
    "from sklearn.manifold import TSNE\n",
    "from sklearn.mixture import GaussianMixture\n",
    "\n",
    "import torch\n",
    "import numpy as np \n",
    "\n",
    "from preprocess import get_mnist, get_webcam\n",
    "from train import TrainerVaDE"
   ]
  },
  {
   "cell_type": "code",
   "execution_count": 5,
   "metadata": {},
   "outputs": [],
   "source": [
    "class Args:\n",
    "    batch_size = 128\n",
    "    lr = 1e-5\n",
    "    dataset = 'webcam'\n",
    "    pretrained_path = 'weights/pretrained_parameter.pth'\n",
    "    patience = 50\n",
    "    pretrain = True\n",
    "    epochs = 200\n",
    "    n_shots = 1\n",
    "\n",
    "\n",
    "device = torch.device('cuda' if torch.cuda.is_available() else 'cpu')\n",
    "\n",
    "    \n",
    "args = Args() # Parsing all the arguments for the training\n",
    "if args.dataset == 'mnist':\n",
    "    dataloader_sup,  dataloader_unsup = get_mnist(args)\n",
    "    n_classes = 10\n",
    "else:\n",
    "    dataloader_sup,  dataloader_unsup = get_webcam(args)\n",
    "    n_classes = 31"
   ]
  },
  {
   "cell_type": "code",
   "execution_count": 11,
   "metadata": {},
   "outputs": [],
   "source": [
    "if args.dataset == 'webcam':\n",
    "    from models_office import Autoencoder, VaDE, feature_extractor\n",
    "    autoencoder = Autoencoder().to(device)\n",
    "    checkpoint = torch.load('autoencoder_parameters.pth.tar',\n",
    "                            map_location=device)\n",
    "    autoencoder.load_state_dict(checkpoint['state_dict'], strict=False)\n",
    "    checkpoint = torch.load('feature_extractor_params.pth.tar',\n",
    "                             map_location=device)\n",
    "    feature_extractor = feature_extractor().to(device)\n",
    "    feature_extractor.load_state_dict(checkpoint['state_dict'])"
   ]
  },
  {
   "cell_type": "code",
   "execution_count": 18,
   "metadata": {},
   "outputs": [
    {
     "data": {
      "text/plain": [
       "GaussianMixture(covariance_type='diag', init_params='kmeans', max_iter=100,\n",
       "                means_init=None, n_components=31, n_init=1,\n",
       "                precisions_init=None, random_state=None, reg_covar=1e-06,\n",
       "                tol=0.001, verbose=0, verbose_interval=10, warm_start=False,\n",
       "                weights_init=None)"
      ]
     },
     "execution_count": 18,
     "metadata": {},
     "output_type": "execute_result"
    }
   ],
   "source": [
    "x = torch.cat([data[0] for data in dataloader_unsup]).to(device) #all x samples.\n",
    "if args.dataset == 'webcam':\n",
    "    x = feature_extractor(x)\n",
    "    x = x.detach()\n",
    "z = autoencoder.encode(x)\n",
    "gmm = GaussianMixture(n_components=n_classes, covariance_type='diag')\n",
    "gmm.fit(z.cpu().detach().numpy())"
   ]
  },
  {
   "cell_type": "code",
   "execution_count": 19,
   "metadata": {},
   "outputs": [],
   "source": [
    "x_sup = torch.cat([data[0] for data in dataloader_sup]).to(device)\n",
    "y_sup = torch.cat([data[1] for data in dataloader_sup]).to(device)"
   ]
  },
  {
   "cell_type": "code",
   "execution_count": 29,
   "metadata": {},
   "outputs": [],
   "source": [
    "x_sup = x_sup[np.argsort(y_sup)]\n",
    "y_sup = y_sup[np.argsort(y_sup)]"
   ]
  },
  {
   "cell_type": "code",
   "execution_count": 30,
   "metadata": {},
   "outputs": [],
   "source": [
    "if args.dataset == 'webcam':\n",
    "    x = feature_extractor(x_sup)\n",
    "    x = x.detach()\n",
    "z_sup = autoencoder.encode(x)\n",
    "probas = gmm.predict_proba(z_sup.cpu().detach().numpy())"
   ]
  },
  {
   "cell_type": "code",
   "execution_count": 53,
   "metadata": {},
   "outputs": [
    {
     "name": "stdout",
     "output_type": "stream",
     "text": [
      "[]\n",
      "[11, 16, 2, 22, 5, 29, 21, 10, 9, 26, 4, 24, 23, 27, 6, 12, 3, 1, 8, 20, 15, 25, 30, 13, 19, 14, 28, 0, 18, 17, 7]\n"
     ]
    }
   ],
   "source": [
    "\n",
    "\n",
    "print(nums)\n",
    "print(assignation)"
   ]
  },
  {
   "cell_type": "code",
   "execution_count": 56,
   "metadata": {},
   "outputs": [
    {
     "name": "stdout",
     "output_type": "stream",
     "text": [
      "[ 0  1  2  3  4  5  6  7  8  9 10 12 13 14 15 16 17 18 19 20 21 22 23 24\n",
      " 25 26 27 28 29 30]\n",
      "[11]\n",
      "[ 0  1  2  3  4  5  6  7  8  9 10 12 13 14 15 17 18 19 20 21 22 23 24 25\n",
      " 26 27 28 29 30]\n",
      "[11, 16]\n",
      "[ 0  1  3  4  5  6  7  8  9 10 12 13 14 15 17 18 19 20 21 22 23 24 25 26\n",
      " 27 28 29 30]\n",
      "[11, 16, 2]\n",
      "[ 0  1  3  4  5  6  7  8  9 10 12 13 14 15 17 18 19 20 21 23 24 25 26 27\n",
      " 28 29 30]\n",
      "[11, 16, 2, 22]\n",
      "sorted  [ 7  0 11  9 14 16 20 18 23  4 28 25 30 17 10 24  3  1 15 12  8 13 26 19\n",
      " 21 29 22  6 27  5  2]\n",
      "[ 0  1  3  4  5  6  7  8  9 10 12 13 14 15 17 18 19 20 21 23 24 25 26 27\n",
      " 28 30]\n",
      "[11, 16, 2, 22, 29]\n",
      "[ 0  1  3  4  5  6  7  8  9 10 12 13 14 15 17 18 19 20 23 24 25 26 27 28\n",
      " 30]\n",
      "[11, 16, 2, 22, 29, 21]\n",
      "[ 0  1  3  4  5  6  7  8  9 12 13 14 15 17 18 19 20 23 24 25 26 27 28 30]\n",
      "[11, 16, 2, 22, 29, 21, 10]\n",
      "[ 0  1  3  4  5  6  7  8 12 13 14 15 17 18 19 20 23 24 25 26 27 28 30]\n",
      "[11, 16, 2, 22, 29, 21, 10, 9]\n",
      "sorted  [ 7  0 17 27  9 28 11 10 30  4 18 15 25  5 13 19  8  3 24 14 21 23 12  6\n",
      " 29 22 20  2  1 26 16]\n",
      "[ 0  1  3  5  6  7  8 12 13 14 15 17 18 19 20 23 24 25 26 27 28 30]\n",
      "[11, 16, 2, 22, 29, 21, 10, 9, 4]\n",
      "[ 0  1  3  5  6  7  8 12 13 14 15 17 18 19 20 23 25 26 27 28 30]\n",
      "[11, 16, 2, 22, 29, 21, 10, 9, 4, 24]\n",
      "sorted  [ 7 17 18  0 11 14  4 25 28 20 27  3 15 19  5 10 16  8 13 21 30 24  6  1\n",
      " 26 12 23 29 22  2  9]\n",
      "sorted  [ 9  0 18 16 11  7 30 24 19  5 14 23 17  8 10 28 20 22  3 13 25  2 26  4\n",
      "  1 15  6 12 27 29 21]\n",
      "sorted  [ 9 17  0 11 10  5 15 27  7 30 25  4 24  3  8 18 20 16 28 13 14 19  1 22\n",
      " 21 26 12  6 23  2 29]\n",
      "sorted  [ 9  7  0 16 30 10 11 17 24 27 28 15 23  5 13 22  3 19 20  4 25 14  2 18\n",
      " 26 21  6  1  8 12 29]\n",
      "sorted  [ 0 17  7 18 11 27  5 28  4 13 10  9 15 22 25  8 14 30 19  6 21 20 12 23\n",
      " 29  2  1  3 26 24 16]\n",
      "sorted  [17  7  0 27 11 28  4 18 13 10 15  5 25 30  9  8 19 21  3  6 14 20 22 12\n",
      " 29 24  2 23  1 26 16]\n",
      "sorted  [ 9  7 17  0 11 30 10 16 24 27 14 20 15 18  3  5 25 28  4 19  1 21 22 13\n",
      "  8 23 26 12 29  6  2]\n",
      "sorted  [17 11  0  9 18  8 30  4 27 13  5 28 25 15 10  7 14 19 23  3  6 12 16  2\n",
      " 26 21 20 22  1 29 24]\n",
      "[ 0  1  3  5  6  7  8 12 13 14 15 17 18 19 20 23 25 26 28 30]\n",
      "[11, 16, 2, 22, 29, 21, 10, 9, 4, 24, 27]\n",
      "[ 0  1  3  5  6  7  8 12 13 14 15 17 18 19 20 23 25 28 30]\n",
      "[11, 16, 2, 22, 29, 21, 10, 9, 4, 24, 27, 26]\n",
      "[ 0  1  3  5  6  7  8 12 13 14 15 17 18 19 20 23 25 28]\n",
      "[11, 16, 2, 22, 29, 21, 10, 9, 4, 24, 27, 26, 30]\n",
      "[ 0  1  3  5  6  7 12 13 14 15 17 18 19 20 23 25 28]\n",
      "[11, 16, 2, 22, 29, 21, 10, 9, 4, 24, 27, 26, 30, 8]\n",
      "sorted  [ 7  9  0 16 17 18 14 20 28 11 19 25  3 30 10 24  1  4 15  8  5 13 12 26\n",
      " 29 23  6 21 22  2 27]\n",
      "sorted  [ 9 11  0 18 17 16  7 30  5 28 24 22 10 27  3 19 23 20 15  2 13 25  8  6\n",
      "  1 12  4 14 26 29 21]\n",
      "[ 0  1  3  5  6  7 12 13 14 15 17 18 20 23 25 28]\n",
      "[11, 16, 2, 22, 29, 21, 10, 9, 4, 24, 27, 26, 30, 8, 19]\n",
      "sorted  [17 11  7 18  9 27 28  0 13  5 30 10  4  3 15 25  8 19  6 14 16 20  2 12\n",
      " 21 22 29 23  1 26 24]\n",
      "sorted  [17  0  7 27 11  9 28 10  5 13  4 15 18 30 25  8 22 19 14  3 21  6 12 20\n",
      " 29 23 24  2  1 26 16]\n",
      "sorted  [ 7  0 11 18  9 17 28 14 22  5 20 13  4 27 23 15  8 16 10 29 19  1  6 25\n",
      " 24 12 21 26  2  3 30]\n",
      "sorted  [ 9 17 11  7  0 10 27 28  5 13 15 30  8  4 25 19 24 18  3 14 16 21 22 23\n",
      " 20  6 29  2  1 12 26]\n",
      "[ 0  1  3  5  6  7 12 13 14 15 17 18 20 23 25 28]\n",
      "[11, 16, 2, 22, 29, 21, 10, 9, 4, 24, 27, 26, 30, 8, 19]\n"
     ]
    }
   ],
   "source": [
    "i = 0\n",
    "j = 1\n",
    "assignation = []\n",
    "nums = np.arange(31)\n",
    "for proba in probas:\n",
    "    sorted_ = np.argsort(proba)\n",
    "    max_ = sorted_[-1]\n",
    "    if max_ in nums:\n",
    "        assignation.append(max_)\n",
    "        nums = np.setdiff1d(nums, max_)\n",
    "        print(nums)\n",
    "        print(assignation)\n",
    "    else:\n",
    "        print('sorted ', sorted_)\n",
    "\n",
    "\n",
    "print(nums)\n",
    "print(assignation)"
   ]
  },
  {
   "cell_type": "code",
   "execution_count": null,
   "metadata": {},
   "outputs": [],
   "source": []
  }
 ],
 "metadata": {
  "kernelspec": {
   "display_name": "Python 3",
   "language": "python",
   "name": "python3"
  },
  "language_info": {
   "codemirror_mode": {
    "name": "ipython",
    "version": 3
   },
   "file_extension": ".py",
   "mimetype": "text/x-python",
   "name": "python",
   "nbconvert_exporter": "python",
   "pygments_lexer": "ipython3",
   "version": "3.6.7"
  }
 },
 "nbformat": 4,
 "nbformat_minor": 2
}
